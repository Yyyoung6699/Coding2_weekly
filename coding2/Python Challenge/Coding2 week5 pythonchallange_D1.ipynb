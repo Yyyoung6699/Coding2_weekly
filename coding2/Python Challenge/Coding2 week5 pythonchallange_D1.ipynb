{
 "cells": [
  {
   "cell_type": "code",
   "execution_count": 1,
   "id": "644a2229",
   "metadata": {},
   "outputs": [
    {
     "name": "stdout",
     "output_type": "stream",
     "text": [
      "i hope you didnt translate it by hand. thats what computers are for. doing it in by hand is inefficient and that's why this text is so long. using string.maketrans() is recommended. now apply on the url.ocr\n"
     ]
    }
   ],
   "source": [
    "# Define a function to shift a single letter n positions forward\n",
    "def shift_letter(letter, n):\n",
    "    # Check if the letter is lowercase\n",
    "    if letter.islower():\n",
    "        # If it is a lowercase letter, add n to its ASCII code value and convert the result to a character\n",
    "        return chr((ord(letter) - ord('a') + n) % 26 + ord('a'))\n",
    "    \n",
    "    # If the letter is not uppercase or lowercase, the original letter is simply returned\n",
    "    else:\n",
    "        return letter\n",
    "\n",
    "# Defines a function that moves the entire string back n positions\n",
    "def shift_string(s, n):\n",
    "    # Use the map() function and lambda expression to move each letter back n places\n",
    "    shifted = ''.join(map(lambda letter: shift_letter(letter, n), s))\n",
    "    return shifted\n",
    "\n",
    "# Call shift_string() to change the sentences\n",
    "result = shift_string(\"g fmnc wms bgblr rpylqjyrc gr zw fylb. rfyrq ufyr amknsrcpq ypc dmp. bmgle gr gl zw fylb gq glcddgagclr ylb rfyr'q ufw rfgq rcvr gq qm jmle. sqgle qrpgle.kyicrpylq() gq pcamkkclbcb. lmu ynnjw ml rfc spj.map\", 2)\n",
    "\n",
    "# Output result\n",
    "print(result)"
   ]
  },
  {
   "cell_type": "code",
   "execution_count": null,
   "id": "c995af90",
   "metadata": {},
   "outputs": [],
   "source": []
  }
 ],
 "metadata": {
  "kernelspec": {
   "display_name": "Python 3 (ipykernel)",
   "language": "python",
   "name": "python3"
  },
  "language_info": {
   "codemirror_mode": {
    "name": "ipython",
    "version": 3
   },
   "file_extension": ".py",
   "mimetype": "text/x-python",
   "name": "python",
   "nbconvert_exporter": "python",
   "pygments_lexer": "ipython3",
   "version": "3.9.16"
  }
 },
 "nbformat": 4,
 "nbformat_minor": 5
}
