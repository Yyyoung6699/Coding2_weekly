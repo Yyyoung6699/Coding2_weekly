{
 "cells": [
  {
   "cell_type": "code",
   "execution_count": 1,
   "id": "34e8f897",
   "metadata": {},
   "outputs": [
    {
     "name": "stdout",
     "output_type": "stream",
     "text": [
      "linkedlist\n"
     ]
    }
   ],
   "source": [
    "import requests\n",
    "import re\n",
    "\n",
    "# Send HTTP requests to get web content\n",
    "url = 'http://www.pythonchallenge.com/pc/def/equality.html'\n",
    "response = requests.get(url)\n",
    "content = response.content.decode('utf-8')\n",
    "\n",
    "# Extract character sequences from web page source code using regular expressions\n",
    "pattern = re.compile('[^A-Z][A-Z]{3}([a-z])[A-Z]{3}[^A-Z]')\n",
    "matches = pattern.findall(content)\n",
    "\n",
    "# Prints all matched letters\n",
    "print(''.join(matches))"
   ]
  },
  {
   "cell_type": "code",
   "execution_count": null,
   "id": "126980a3",
   "metadata": {},
   "outputs": [],
   "source": []
  }
 ],
 "metadata": {
  "kernelspec": {
   "display_name": "Python 3 (ipykernel)",
   "language": "python",
   "name": "python3"
  },
  "language_info": {
   "codemirror_mode": {
    "name": "ipython",
    "version": 3
   },
   "file_extension": ".py",
   "mimetype": "text/x-python",
   "name": "python",
   "nbconvert_exporter": "python",
   "pygments_lexer": "ipython3",
   "version": "3.9.16"
  }
 },
 "nbformat": 4,
 "nbformat_minor": 5
}
